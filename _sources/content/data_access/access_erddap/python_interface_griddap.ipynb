{
 "cells": [
  {
   "cell_type": "markdown",
   "id": "5e4eb12d",
   "metadata": {},
   "source": [
    "Accessing gridded data on ERDDAP \n",
    "===\n",
    "\n",
    "## Packages \n",
    "To use python to access the ERDDAP server directly from your python script or jupyter-notebook, you will need\n",
    "- ERDDAPY\n",
    "- Xarray\n",
    "- netcdf4 \n",
    "- matplotlib\n",
    "\n",
    "```{note}\n",
    "The package [**netcdf4**](http://unidata.github.io/netcdf4-python/) develop by UNIDATA is not needed in the import part of the python script. However, it is the essential package that [support netCDF format output from Xarray](https://docs.xarray.dev/en/stable/user-guide/io.html). The package [**matplotlib**](https://matplotlib.org/stable/) is also not needed in the import part of the python script. It is the essential package that [support quick visualization from Xarray](https://docs.xarray.dev/en/stable/user-guide/plotting.html). \n",
    "```"
   ]
  },
  {
   "cell_type": "markdown",
   "id": "d6dc3423",
   "metadata": {},
   "source": [
    "In this page, we demonstrate how to extract/download data directly from a ERDDAP server and perform data processing, visualization, and export data in python environment. \n",
    "\n",
    "```{tip}\n",
    "[Understanding of the ERDDAP server and what it provides](errdapData) is highly recommended before reading the following intructions.\n",
    "```\n",
    "\n",
    "## Import python packages"
   ]
  },
  {
   "cell_type": "code",
   "execution_count": 1,
   "id": "16a368a1",
   "metadata": {},
   "outputs": [
    {
     "ename": "ModuleNotFoundError",
     "evalue": "No module named 'erddapy'",
     "output_type": "error",
     "traceback": [
      "\u001b[0;31m---------------------------------------------------------------------------\u001b[0m",
      "\u001b[0;31mModuleNotFoundError\u001b[0m                       Traceback (most recent call last)",
      "Cell \u001b[0;32mIn[1], line 2\u001b[0m\n\u001b[1;32m      1\u001b[0m \u001b[38;5;28;01mimport\u001b[39;00m \u001b[38;5;21;01mxarray\u001b[39;00m \u001b[38;5;28;01mas\u001b[39;00m \u001b[38;5;21;01mxr\u001b[39;00m\n\u001b[0;32m----> 2\u001b[0m \u001b[38;5;28;01mfrom\u001b[39;00m \u001b[38;5;21;01merddapy\u001b[39;00m \u001b[38;5;28;01mimport\u001b[39;00m ERDDAP\n",
      "\u001b[0;31mModuleNotFoundError\u001b[0m: No module named 'erddapy'"
     ]
    }
   ],
   "source": [
    "import xarray as xr\n",
    "from erddapy import ERDDAP"
   ]
  },
  {
   "cell_type": "markdown",
   "id": "b91d1d57",
   "metadata": {},
   "source": [
    "- [**xarray**](https://docs.xarray.dev/en/stable/getting-started-guide/why-xarray.html) is used for data processing and netCDF file output. \n",
    "- [**erddapy**](https://ioos.github.io/erddapy/00-quick_intro-output.html) is used to access the ERDDAP server.\n",
    "\n",
    "Both package-webpages have more detail explanation on its full range of functionalities. \n",
    "Here we will mainly focusing on getting the data to be displayer and downloaded.\n",
    "\n",
    "\n",
    "## GridDAP type data\n",
    "In this demostration, we will be getting the gridded data of AMSRE model output from [NOAA NMFS ERDDAP server](https://coastwatch.pfeg.noaa.gov/erddap/griddap/jplAmsreSstMon.html)\n",
    "\n",
    "Firstly, the way to use the **erddapy** is to setup the destination ERDDAP server as an object in python through `ERDDAP` ([a python class](https://docs.python.org/3/tutorial/classes.html))"
   ]
  },
  {
   "cell_type": "code",
   "execution_count": null,
   "id": "e7ba56ef",
   "metadata": {},
   "outputs": [],
   "source": [
    "#### access the ERDDAP server\n",
    "e = ERDDAP(\n",
    "    server=\"https://coastwatch.pfeg.noaa.gov/erddap/\",    # The URL that the ERDDAP server has\n",
    "    protocol=\"griddap\",                                   # The data type (griddap or tabledap)\n",
    "    response=\"opendap\",                                   # different output data type that provided by ERDDAP server       \n",
    ")"
   ]
  },
  {
   "cell_type": "markdown",
   "id": "d89018fd",
   "metadata": {},
   "source": [
    "```{note}\n",
    "Like the comment in the code above, three most important keyword arguments ([kwarg](https://docs.python.org/3/glossary.html#term-argument)) to set for the `ERDDAP` class are `server` (The URL that the ERDDAP server is located which has the form of `\"https://.../erddap/\"`), `protocol` (The [data type](errdapData) one want to get. It is either `\"tabledap\"` or `\"griddap\"`), and `response` (For most general use, set the kwarg as `\"opendap\"` to request the data through OPeNDAP Data Access Protocol (DAP) and its projection constraints).\n",
    "```\n",
    "By executing the above code block, we have already setup the connection with the desired ERDDAP server. \n",
    "To request a specific dataset on the server, we need to know the `dataset_id`.\n",
    "The fastest way to get the dataset ID is to go into the data page (e.g. https://coastwatch.pfeg.noaa.gov/erddap/griddap/jplAmsreSstMon.html).\n",
    "The dataset ID is shown on the second line right after institution. \n",
    "```{tip}\n",
    "One can also get the dataset ID directly from the URL shown above (e.g. https://.../**jplAmsreSstMon**.html).\n",
    "```\n",
    "To set the `dataset_id`, execute"
   ]
  },
  {
   "cell_type": "code",
   "execution_count": null,
   "id": "6414efb3",
   "metadata": {},
   "outputs": [],
   "source": [
    "# set the dataset id name \n",
    "#  ex:  https://coastwatch.pfeg.noaa.gov/erddap/griddap/jplAquariusSSS3MonthV5.html\n",
    "#  dataset_id = jplAquariusSSS3MonthV5\n",
    "e.dataset_id = \"jplAmsreSstMon\""
   ]
  },
  {
   "cell_type": "markdown",
   "id": "f18c3a50",
   "metadata": {},
   "source": [
    "To have a quick view and setup of the download variables and range on different dimension, execute"
   ]
  },
  {
   "cell_type": "code",
   "execution_count": null,
   "id": "483a02a7",
   "metadata": {},
   "outputs": [],
   "source": [
    "# griddap_initialize() help fetch the default variables and constraints available for the data\n",
    "e.griddap_initialize()\n",
    "\n",
    "# print available variables and range included in the erddap request\n",
    "print(e.variables)\n",
    "print('==========')\n",
    "print(*e.constraints.items(),sep='\\n')"
   ]
  },
  {
   "cell_type": "markdown",
   "id": "a599719d",
   "metadata": {},
   "source": [
    "```{note}\n",
    "The `griddap_initialize()` [method](https://docs.python.org/3/tutorial/classes.html#method-objects) is to fetch the default variables and constraints available for the specific dataset.\n",
    "Once the `griddap_initialize()` is called, the `e.variables` (python list) and `e.constraints` (python dictionary) change from `None` to include the default values. \n",
    "```\n",
    "\n",
    "From the print out above, one can see the available variables in `'jplAmsreSstMon'` are `'tos'`(sea surface temperature), `'tosNobs'` (number of observations at each grid point for the tos value), and `'tosStderr'` (the standard error for the tos value).\n",
    "\n",
    "On the other hand, the `e.constraints` provide the default range for different dimensions. \n",
    "The time dimension is default to 1 time step in this example. \n",
    "The latitude and longitude is default to have global coverage.\n",
    "A regional subsetting can be setup here if needed"
   ]
  },
  {
   "cell_type": "code",
   "execution_count": null,
   "id": "5fd96148",
   "metadata": {},
   "outputs": [],
   "source": [
    "e.constraints['latitude>='] = -60\n",
    "e.constraints['latitude<='] = 60\n",
    "print(*e.constraints.items(),sep='\\n')"
   ]
  },
  {
   "cell_type": "markdown",
   "id": "9235f1f7",
   "metadata": {},
   "source": [
    "Now, all the setting for downloading the data is complete for this simple example.\n",
    "All we need to do is to fetch the data from the server to local machine memory.\n",
    "`erddapy` has a widely used Xarray backend to support export to xarray object. \n",
    "Simply execute"
   ]
  },
  {
   "cell_type": "code",
   "execution_count": null,
   "id": "a39ecb90",
   "metadata": {},
   "outputs": [],
   "source": [
    "ds = e.to_xarray()"
   ]
  },
  {
   "cell_type": "markdown",
   "id": "122ecbb4",
   "metadata": {},
   "source": [
    "The `ds` object constructed by Xarray is a great way to see the gridded data structure and perform quick visualization, preprocessing, and exporting to netCDF format."
   ]
  },
  {
   "cell_type": "code",
   "execution_count": null,
   "id": "79b43804",
   "metadata": {},
   "outputs": [],
   "source": [
    "ds"
   ]
  },
  {
   "cell_type": "markdown",
   "id": "5bf9591e",
   "metadata": {},
   "source": [
    "jupyter output cell above shows the coordinates, variables, and related attributes of the datasets and variables. \n",
    "\n",
    "To quickly visualize the different variables (with the help of the installed matplotlib package not imported but supporting the plot method in Xarray),"
   ]
  },
  {
   "cell_type": "code",
   "execution_count": null,
   "id": "09a31c10",
   "metadata": {},
   "outputs": [],
   "source": [
    "ds.tos.plot()"
   ]
  },
  {
   "cell_type": "code",
   "execution_count": null,
   "id": "4ae4704d",
   "metadata": {},
   "outputs": [],
   "source": [
    "ds.tosNobs.plot()"
   ]
  },
  {
   "cell_type": "code",
   "execution_count": null,
   "id": "b05ba617",
   "metadata": {},
   "outputs": [],
   "source": [
    "ds.tosStderr.plot()"
   ]
  },
  {
   "cell_type": "markdown",
   "id": "d0543f50",
   "metadata": {},
   "source": [
    "With the help of the Xarray, we can also performed a quick zonal average of the variable `tos` to see the latitudinal distribution of the sea surface temperature"
   ]
  },
  {
   "cell_type": "code",
   "execution_count": null,
   "id": "a0f9181b",
   "metadata": {},
   "outputs": [],
   "source": [
    "ds.tos.mean(dim='longitude').plot()"
   ]
  },
  {
   "cell_type": "markdown",
   "id": "291c500a",
   "metadata": {},
   "source": [
    "The `.mean(dim='longitude')` is the method Xarray provide for zonal averaging.\n",
    "\n",
    "To output the dataset, we use the `.to_netcdf()` method\n",
    "```\n",
    "ds.to_netcdf('./jplAmsreSstMon_201012.nc')\n",
    "```"
   ]
  }
 ],
 "metadata": {
  "jupytext": {
   "text_representation": {
    "extension": ".md",
    "format_name": "myst",
    "format_version": 0.13,
    "jupytext_version": "1.14.4"
   }
  },
  "kernelspec": {
   "display_name": "Python 3 (ipykernel)",
   "language": "python",
   "name": "python3"
  },
  "language_info": {
   "codemirror_mode": {
    "name": "ipython",
    "version": 3
   },
   "file_extension": ".py",
   "mimetype": "text/x-python",
   "name": "python",
   "nbconvert_exporter": "python",
   "pygments_lexer": "ipython3",
   "version": "3.9.16"
  },
  "source_map": [
   12,
   28,
   37,
   40,
   52,
   59,
   72,
   77,
   80,
   88,
   101,
   105,
   111,
   113,
   116,
   118,
   122,
   125,
   128,
   130,
   133,
   135
  ]
 },
 "nbformat": 4,
 "nbformat_minor": 5
}