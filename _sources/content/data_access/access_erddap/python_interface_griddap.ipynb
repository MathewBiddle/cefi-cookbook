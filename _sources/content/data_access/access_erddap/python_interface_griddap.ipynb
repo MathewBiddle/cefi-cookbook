{
 "cells": [
  {
   "cell_type": "markdown",
   "id": "a46c0157",
   "metadata": {},
   "source": [
    "Accessing gridded data\n",
    "===\n",
    "\n",
    "## Packages used\n",
    "To use python to access the ERDDAP server directly from your python script or jupyter-notebook, you will need\n",
    "- ERDDAPY\n",
    "- Xarray\n",
    "- netcdf4 \n",
    "- matplotlib\n",
    "\n",
    "```{note}\n",
    "The package [**netcdf4**](http://unidata.github.io/netcdf4-python/) develop by UNIDATA is not needed in the import part of the python script. However, it is the essential package that [support netCDF format output from Xarray](https://docs.xarray.dev/en/stable/user-guide/io.html). The package [**matplotlib**](https://matplotlib.org/stable/) is also not needed in the import part of the python script. It is the essential package that [support quick visualization from Xarray](https://docs.xarray.dev/en/stable/user-guide/plotting.html). \n",
    "```"
   ]
  },
  {
   "cell_type": "markdown",
   "id": "3d3dda78",
   "metadata": {},
   "source": [
    "In this page, we demonstrate how to extract/download data directly from a ERDDAP server and perform data processing, visualization, and export data in python environment. \n",
    "\n",
    "```{tip}\n",
    "[Understanding of the ERDDAP server and what it provides](erddapData) is highly recommended before reading the following intructions.\n",
    "```\n",
    "\n",
    "## Import python packages"
   ]
  },
  {
   "cell_type": "code",
   "execution_count": 1,
   "id": "8f20708a",
   "metadata": {},
   "outputs": [],
   "source": [
    "import xarray as xr\n",
    "from erddapy import ERDDAP"
   ]
  },
  {
   "cell_type": "markdown",
   "id": "5c6c040f",
   "metadata": {},
   "source": [
    "- [**xarray**](https://docs.xarray.dev/en/stable/getting-started-guide/why-xarray.html) is used for data processing and netCDF file output. \n",
    "- [**erddapy**](https://ioos.github.io/erddapy/00-quick_intro-output.html) is used to access the ERDDAP server.\n",
    "\n",
    "Both package-webpages have more detail explanation on its full range of functionalities. \n",
    "Here we will mainly focusing on getting the data to be displayer and downloaded.\n",
    "\n",
    "\n",
    "## Access GridDAP type data\n",
    "In this demostration, we will be getting the gridded data of AMSRE model output from [NOAA NMFS ERDDAP server](https://coastwatch.pfeg.noaa.gov/erddap/griddap/jplAmsreSstMon.html)\n",
    "\n",
    "Firstly, the way to use the **erddapy** is to setup the destination ERDDAP server as an object in python through `ERDDAP` ([a python class](https://docs.python.org/3/tutorial/classes.html))"
   ]
  },
  {
   "cell_type": "code",
   "execution_count": 2,
   "id": "f026a5dc",
   "metadata": {},
   "outputs": [],
   "source": [
    "#### access the ERDDAP server\n",
    "e = ERDDAP(\n",
    "    server=\"https://coastwatch.pfeg.noaa.gov/erddap/\",    # The URL that the ERDDAP server has\n",
    "    protocol=\"griddap\",                                   # The data type (griddap or tabledap)\n",
    "    response=\"opendap\",                                   # different output data type that provided by ERDDAP server       \n",
    ")"
   ]
  },
  {
   "cell_type": "markdown",
   "id": "a2e76a83",
   "metadata": {},
   "source": [
    "```{note}\n",
    "Like the comment in the code above, three most important keyword arguments ([kwarg](https://docs.python.org/3/glossary.html#term-argument)) to set for the `ERDDAP` class are `server` (The URL that the ERDDAP server is located which has the form of `\"https://.../erddap/\"`), `protocol` (The [data type](erddapData) one want to get. It is either `\"tabledap\"` or `\"griddap\"`), and `response` (For most general use, set the kwarg as `\"opendap\"` to request the data through OPeNDAP Data Access Protocol (DAP) and its projection constraints).\n",
    "```\n",
    "By executing the above code block, we have already setup the connection with the desired ERDDAP server. \n",
    "To request a specific dataset on the server, we need to know the `dataset_id`.\n",
    "The fastest way to get the dataset ID is to go into the data page (e.g. https://coastwatch.pfeg.noaa.gov/erddap/griddap/jplAmsreSstMon.html).\n",
    "The dataset ID is shown on the second line right after institution. \n",
    "```{tip}\n",
    "One can also get the dataset ID directly from the URL shown above (e.g. https://.../**jplAmsreSstMon**.html).\n",
    "```\n",
    "To set the `dataset_id`, execute"
   ]
  },
  {
   "cell_type": "code",
   "execution_count": 3,
   "id": "1c80fe4a",
   "metadata": {},
   "outputs": [],
   "source": [
    "# set the dataset id name \n",
    "#  ex:  https://coastwatch.pfeg.noaa.gov/erddap/griddap/jplAquariusSSS3MonthV5.html\n",
    "#  dataset_id = jplAquariusSSS3MonthV5\n",
    "e.dataset_id = \"jplAmsreSstMon\""
   ]
  },
  {
   "cell_type": "markdown",
   "id": "bdd346eb",
   "metadata": {},
   "source": [
    "To have a quick view and setup of the download variables and range on different dimension, execute"
   ]
  },
  {
   "cell_type": "code",
   "execution_count": 4,
   "id": "2da673d2",
   "metadata": {},
   "outputs": [
    {
     "name": "stdout",
     "output_type": "stream",
     "text": [
      "['tos', 'tosNobs', 'tosStderr']\n",
      "==========\n",
      "('time>=', '2010-12-16T12:00:00Z')\n",
      "('time<=', '2010-12-16T12:00:00Z')\n",
      "('time_step', 1)\n",
      "('latitude>=', -89.5)\n",
      "('latitude<=', 89.5)\n",
      "('latitude_step', 1)\n",
      "('longitude>=', 1.0)\n",
      "('longitude<=', 360.0)\n",
      "('longitude_step', 1)\n"
     ]
    }
   ],
   "source": [
    "# griddap_initialize() help fetch the default variables and constraints available for the data\n",
    "e.griddap_initialize()\n",
    "\n",
    "# print available variables and range included in the erddap request\n",
    "print(e.variables)\n",
    "print('==========')\n",
    "print(*e.constraints.items(),sep='\\n')"
   ]
  },
  {
   "cell_type": "markdown",
   "id": "5431151d",
   "metadata": {},
   "source": [
    "```{note}\n",
    "The `griddap_initialize()` [method](https://docs.python.org/3/tutorial/classes.html#method-objects) is to fetch the default variables and constraints available for the specific dataset.\n",
    "Once the `griddap_initialize()` is called, the `e.variables` (python list) and `e.constraints` (python dictionary) change from `None` to include the default values. \n",
    "```\n",
    "\n",
    "From the print out above, one can see the available variables in `'jplAmsreSstMon'` are `'tos'`(sea surface temperature), `'tosNobs'` (number of observations at each grid point for the tos value), and `'tosStderr'` (the standard error for the tos value).\n",
    "\n",
    "## Subset data\n",
    "On the other hand, the `e.constraints` provide the default range for different dimensions. \n",
    "The time dimension is default to 1 time step in this example. \n",
    "The latitude and longitude is default to have global coverage.\n",
    "A regional subsetting can be setup here if needed"
   ]
  },
  {
   "cell_type": "code",
   "execution_count": 5,
   "id": "787637d4",
   "metadata": {},
   "outputs": [
    {
     "name": "stdout",
     "output_type": "stream",
     "text": [
      "('time>=', '2010-12-16T12:00:00Z')\n",
      "('time<=', '2010-12-16T12:00:00Z')\n",
      "('time_step', 1)\n",
      "('latitude>=', -60)\n",
      "('latitude<=', 60)\n",
      "('latitude_step', 1)\n",
      "('longitude>=', 1.0)\n",
      "('longitude<=', 360.0)\n",
      "('longitude_step', 1)\n"
     ]
    }
   ],
   "source": [
    "e.constraints['latitude>='] = -60\n",
    "e.constraints['latitude<='] = 60\n",
    "print(*e.constraints.items(),sep='\\n')"
   ]
  },
  {
   "cell_type": "markdown",
   "id": "99319d5d",
   "metadata": {},
   "source": [
    "## Download data \n",
    "Now, all the setting for downloading the data is complete for this simple example.\n",
    "All we need to do is to fetch the data from the server to local machine memory.\n",
    "`erddapy` has a widely used Xarray backend to support export to xarray object. \n",
    "Simply execute"
   ]
  },
  {
   "cell_type": "code",
   "execution_count": 6,
   "id": "d0d72d81",
   "metadata": {},
   "outputs": [
    {
     "ename": "HTTPError",
     "evalue": "Error {\n    code=500;\n    message=\"Internal Server Error: There was a (temporary?) problem.  Wait a minute, then try again.  (In a browser, click the Reload button.)\n(ERROR from data source: java.lang.RuntimeException: ERROR in getPrimitiveArrays for query=?tos%5B102:102%5D%5B30:150%5D%5B0:359%5D\nCannot invoke \\\"String.indexOf(String)\\\" because \\\"<parameter1>\\\" is null)\n(Cause: java.lang.RuntimeException: ERROR in getPrimitiveArrays for query=?tos%5B102:102%5D%5B30:150%5D%5B0:359%5D\nCannot invoke \\\"String.indexOf(String)\\\" because \\\"<parameter1>\\\" is null)\";\n}\n",
     "output_type": "error",
     "traceback": [
      "\u001b[0;31m---------------------------------------------------------------------------\u001b[0m",
      "\u001b[0;31mHTTPError\u001b[0m                                 Traceback (most recent call last)",
      "File \u001b[0;32m~/mambaforge/envs/cefibook/lib/python3.10/site-packages/erddapy/url_handling.py:15\u001b[0m, in \u001b[0;36m_urlopen\u001b[0;34m(url, auth, **kwargs)\u001b[0m\n\u001b[1;32m     14\u001b[0m \u001b[38;5;28;01mtry\u001b[39;00m:\n\u001b[0;32m---> 15\u001b[0m     \u001b[43mresponse\u001b[49m\u001b[38;5;241;43m.\u001b[39;49m\u001b[43mraise_for_status\u001b[49m\u001b[43m(\u001b[49m\u001b[43m)\u001b[49m\n\u001b[1;32m     16\u001b[0m \u001b[38;5;28;01mexcept\u001b[39;00m requests\u001b[38;5;241m.\u001b[39mexceptions\u001b[38;5;241m.\u001b[39mHTTPError \u001b[38;5;28;01mas\u001b[39;00m err:\n",
      "File \u001b[0;32m~/mambaforge/envs/cefibook/lib/python3.10/site-packages/requests/models.py:1021\u001b[0m, in \u001b[0;36mResponse.raise_for_status\u001b[0;34m(self)\u001b[0m\n\u001b[1;32m   1020\u001b[0m \u001b[38;5;28;01mif\u001b[39;00m http_error_msg:\n\u001b[0;32m-> 1021\u001b[0m     \u001b[38;5;28;01mraise\u001b[39;00m HTTPError(http_error_msg, response\u001b[38;5;241m=\u001b[39m\u001b[38;5;28mself\u001b[39m)\n",
      "\u001b[0;31mHTTPError\u001b[0m: 500 Server Error:  for url: https://coastwatch.pfeg.noaa.gov/erddap/griddap/jplAmsreSstMon.nc?tos%5B(2010-12-16T12:00:00Z):1:(2010-12-16T12:00:00Z)%5D%5B(-60):1:(60)%5D%5B(1.0):1:(360.0)%5D,tosNobs%5B(2010-12-16T12:00:00Z):1:(2010-12-16T12:00:00Z)%5D%5B(-60):1:(60)%5D%5B(1.0):1:(360.0)%5D,tosStderr%5B(2010-12-16T12:00:00Z):1:(2010-12-16T12:00:00Z)%5D%5B(-60):1:(60)%5D%5B(1.0):1:(360.0)%5D",
      "\nThe above exception was the direct cause of the following exception:\n",
      "\u001b[0;31mHTTPError\u001b[0m                                 Traceback (most recent call last)",
      "Cell \u001b[0;32mIn[6], line 1\u001b[0m\n\u001b[0;32m----> 1\u001b[0m ds \u001b[38;5;241m=\u001b[39m \u001b[43me\u001b[49m\u001b[38;5;241;43m.\u001b[39;49m\u001b[43mto_xarray\u001b[49m\u001b[43m(\u001b[49m\u001b[43m)\u001b[49m\n",
      "File \u001b[0;32m~/mambaforge/envs/cefibook/lib/python3.10/site-packages/erddapy/erddapy.py:614\u001b[0m, in \u001b[0;36mERDDAP.to_xarray\u001b[0;34m(self, **kw)\u001b[0m\n\u001b[1;32m    612\u001b[0m response \u001b[38;5;241m=\u001b[39m \u001b[38;5;124m\"\u001b[39m\u001b[38;5;124mnc\u001b[39m\u001b[38;5;124m\"\u001b[39m \u001b[38;5;28;01mif\u001b[39;00m \u001b[38;5;28mself\u001b[39m\u001b[38;5;241m.\u001b[39mprotocol \u001b[38;5;241m==\u001b[39m \u001b[38;5;124m\"\u001b[39m\u001b[38;5;124mgriddap\u001b[39m\u001b[38;5;124m\"\u001b[39m \u001b[38;5;28;01melse\u001b[39;00m \u001b[38;5;124m\"\u001b[39m\u001b[38;5;124mncCF\u001b[39m\u001b[38;5;124m\"\u001b[39m\n\u001b[1;32m    613\u001b[0m url \u001b[38;5;241m=\u001b[39m \u001b[38;5;28mself\u001b[39m\u001b[38;5;241m.\u001b[39mget_download_url(response\u001b[38;5;241m=\u001b[39mresponse)\n\u001b[0;32m--> 614\u001b[0m nc \u001b[38;5;241m=\u001b[39m \u001b[43m_nc_dataset\u001b[49m\u001b[43m(\u001b[49m\u001b[43murl\u001b[49m\u001b[43m,\u001b[49m\u001b[43m \u001b[49m\u001b[43mauth\u001b[49m\u001b[38;5;241;43m=\u001b[39;49m\u001b[38;5;28;43mself\u001b[39;49m\u001b[38;5;241;43m.\u001b[39;49m\u001b[43mauth\u001b[49m\u001b[43m,\u001b[49m\u001b[43m \u001b[49m\u001b[38;5;241;43m*\u001b[39;49m\u001b[38;5;241;43m*\u001b[39;49m\u001b[38;5;28;43mself\u001b[39;49m\u001b[38;5;241;43m.\u001b[39;49m\u001b[43mrequests_kwargs\u001b[49m\u001b[43m)\u001b[49m\n\u001b[1;32m    615\u001b[0m \u001b[38;5;28;01mreturn\u001b[39;00m xr\u001b[38;5;241m.\u001b[39mopen_dataset(xr\u001b[38;5;241m.\u001b[39mbackends\u001b[38;5;241m.\u001b[39mNetCDF4DataStore(nc), \u001b[38;5;241m*\u001b[39m\u001b[38;5;241m*\u001b[39mkw)\n",
      "File \u001b[0;32m~/mambaforge/envs/cefibook/lib/python3.10/site-packages/erddapy/netcdf_handling.py:16\u001b[0m, in \u001b[0;36m_nc_dataset\u001b[0;34m(url, auth, **requests_kwargs)\u001b[0m\n\u001b[1;32m     13\u001b[0m \u001b[38;5;250m\u001b[39m\u001b[38;5;124;03m\"\"\"Return a netCDF4-python Dataset from memory and fallbacks to disk if that fails.\"\"\"\u001b[39;00m\n\u001b[1;32m     14\u001b[0m \u001b[38;5;28;01mfrom\u001b[39;00m \u001b[38;5;21;01mnetCDF4\u001b[39;00m \u001b[38;5;28;01mimport\u001b[39;00m Dataset\n\u001b[0;32m---> 16\u001b[0m data \u001b[38;5;241m=\u001b[39m \u001b[43murlopen\u001b[49m\u001b[43m(\u001b[49m\u001b[43murl\u001b[49m\u001b[38;5;241;43m=\u001b[39;49m\u001b[43murl\u001b[49m\u001b[43m,\u001b[49m\u001b[43m \u001b[49m\u001b[43mauth\u001b[49m\u001b[38;5;241;43m=\u001b[39;49m\u001b[43mauth\u001b[49m\u001b[43m,\u001b[49m\u001b[43m \u001b[49m\u001b[38;5;241;43m*\u001b[39;49m\u001b[38;5;241;43m*\u001b[39;49m\u001b[43mrequests_kwargs\u001b[49m\u001b[43m)\u001b[49m\n\u001b[1;32m     17\u001b[0m \u001b[38;5;28;01mtry\u001b[39;00m:\n\u001b[1;32m     18\u001b[0m     \u001b[38;5;28;01mreturn\u001b[39;00m Dataset(Path(urlparse(url)\u001b[38;5;241m.\u001b[39mpath)\u001b[38;5;241m.\u001b[39mname, memory\u001b[38;5;241m=\u001b[39mdata\u001b[38;5;241m.\u001b[39mread())\n",
      "File \u001b[0;32m~/mambaforge/envs/cefibook/lib/python3.10/site-packages/erddapy/url_handling.py:28\u001b[0m, in \u001b[0;36murlopen\u001b[0;34m(url, auth, **kwargs)\u001b[0m\n\u001b[1;32m     22\u001b[0m \u001b[38;5;250m\u001b[39m\u001b[38;5;124;03m\"\"\"Thin wrapper around requests get content.\u001b[39;00m\n\u001b[1;32m     23\u001b[0m \n\u001b[1;32m     24\u001b[0m \u001b[38;5;124;03mSee requests.get docs for the `params` and `kwargs` options.\u001b[39;00m\n\u001b[1;32m     25\u001b[0m \n\u001b[1;32m     26\u001b[0m \u001b[38;5;124;03m\"\"\"\u001b[39;00m\n\u001b[1;32m     27\u001b[0m \u001b[38;5;66;03m# Ignoring type checks here b/c mypy does not support decorated functions.\u001b[39;00m\n\u001b[0;32m---> 28\u001b[0m data \u001b[38;5;241m=\u001b[39m \u001b[43m_urlopen\u001b[49m\u001b[43m(\u001b[49m\u001b[43murl\u001b[49m\u001b[38;5;241;43m=\u001b[39;49m\u001b[43murl\u001b[49m\u001b[43m,\u001b[49m\u001b[43m \u001b[49m\u001b[43mauth\u001b[49m\u001b[38;5;241;43m=\u001b[39;49m\u001b[43mauth\u001b[49m\u001b[43m,\u001b[49m\u001b[43m \u001b[49m\u001b[38;5;241;43m*\u001b[39;49m\u001b[38;5;241;43m*\u001b[39;49m\u001b[43mkwargs\u001b[49m\u001b[43m)\u001b[49m  \u001b[38;5;66;03m# type: ignore\u001b[39;00m\n\u001b[1;32m     29\u001b[0m data\u001b[38;5;241m.\u001b[39mseek(\u001b[38;5;241m0\u001b[39m)\n\u001b[1;32m     30\u001b[0m \u001b[38;5;28;01mreturn\u001b[39;00m data\n",
      "File \u001b[0;32m~/mambaforge/envs/cefibook/lib/python3.10/site-packages/erddapy/url_handling.py:17\u001b[0m, in \u001b[0;36m_urlopen\u001b[0;34m(url, auth, **kwargs)\u001b[0m\n\u001b[1;32m     15\u001b[0m     response\u001b[38;5;241m.\u001b[39mraise_for_status()\n\u001b[1;32m     16\u001b[0m \u001b[38;5;28;01mexcept\u001b[39;00m requests\u001b[38;5;241m.\u001b[39mexceptions\u001b[38;5;241m.\u001b[39mHTTPError \u001b[38;5;28;01mas\u001b[39;00m err:\n\u001b[0;32m---> 17\u001b[0m     \u001b[38;5;28;01mraise\u001b[39;00m requests\u001b[38;5;241m.\u001b[39mexceptions\u001b[38;5;241m.\u001b[39mHTTPError(\u001b[38;5;124mf\u001b[39m\u001b[38;5;124m\"\u001b[39m\u001b[38;5;132;01m{\u001b[39;00mresponse\u001b[38;5;241m.\u001b[39mcontent\u001b[38;5;241m.\u001b[39mdecode()\u001b[38;5;132;01m}\u001b[39;00m\u001b[38;5;124m\"\u001b[39m) \u001b[38;5;28;01mfrom\u001b[39;00m \u001b[38;5;21;01merr\u001b[39;00m\n\u001b[1;32m     18\u001b[0m \u001b[38;5;28;01mreturn\u001b[39;00m io\u001b[38;5;241m.\u001b[39mBytesIO(response\u001b[38;5;241m.\u001b[39mcontent)\n",
      "\u001b[0;31mHTTPError\u001b[0m: Error {\n    code=500;\n    message=\"Internal Server Error: There was a (temporary?) problem.  Wait a minute, then try again.  (In a browser, click the Reload button.)\n(ERROR from data source: java.lang.RuntimeException: ERROR in getPrimitiveArrays for query=?tos%5B102:102%5D%5B30:150%5D%5B0:359%5D\nCannot invoke \\\"String.indexOf(String)\\\" because \\\"<parameter1>\\\" is null)\n(Cause: java.lang.RuntimeException: ERROR in getPrimitiveArrays for query=?tos%5B102:102%5D%5B30:150%5D%5B0:359%5D\nCannot invoke \\\"String.indexOf(String)\\\" because \\\"<parameter1>\\\" is null)\";\n}\n"
     ]
    }
   ],
   "source": [
    "ds = e.to_xarray()"
   ]
  },
  {
   "cell_type": "markdown",
   "id": "5be08293",
   "metadata": {},
   "source": [
    "The `ds` object constructed by Xarray is a great way to see the gridded data structure and perform quick visualization, preprocessing, and exporting to netCDF format."
   ]
  },
  {
   "cell_type": "code",
   "execution_count": null,
   "id": "313caa8c",
   "metadata": {},
   "outputs": [],
   "source": [
    "ds"
   ]
  },
  {
   "cell_type": "markdown",
   "id": "c9ef9cf2",
   "metadata": {},
   "source": [
    "jupyter output cell above shows the coordinates, variables, and related attributes of the datasets and variables. \n",
    "\n",
    "\n",
    "## Visualize data \n",
    "To quickly visualize the different variables (with the help of the installed matplotlib package not imported but supporting the plot method in Xarray),"
   ]
  },
  {
   "cell_type": "code",
   "execution_count": null,
   "id": "53f90d7e",
   "metadata": {},
   "outputs": [],
   "source": [
    "ds.tos.plot()"
   ]
  },
  {
   "cell_type": "code",
   "execution_count": null,
   "id": "7b036cc7",
   "metadata": {},
   "outputs": [],
   "source": [
    "ds.tosNobs.plot()"
   ]
  },
  {
   "cell_type": "code",
   "execution_count": null,
   "id": "9b1f12b1",
   "metadata": {},
   "outputs": [],
   "source": [
    "ds.tosStderr.plot()"
   ]
  },
  {
   "cell_type": "markdown",
   "id": "96d5ce3c",
   "metadata": {},
   "source": [
    "## Preprocess data\n",
    "With the help of the Xarray, we can also performed a quick zonal average of the variable `tos` to see the latitudinal distribution of the sea surface temperature"
   ]
  },
  {
   "cell_type": "code",
   "execution_count": null,
   "id": "8ffc8dcf",
   "metadata": {},
   "outputs": [],
   "source": [
    "ds.tos.mean(dim='longitude').plot()"
   ]
  },
  {
   "cell_type": "markdown",
   "id": "0814d74f",
   "metadata": {},
   "source": [
    "The `.mean(dim='longitude')` is the method Xarray provide for zonal averaging.\n",
    "\n",
    "## Export to netCDF\n",
    "To output the dataset, we use the `.to_netcdf()` method\n",
    "```\n",
    "ds.to_netcdf('./jplAmsreSstMon_201012.nc')\n",
    "```"
   ]
  }
 ],
 "metadata": {
  "jupytext": {
   "text_representation": {
    "extension": ".md",
    "format_name": "myst",
    "format_version": 0.13,
    "jupytext_version": "1.14.4"
   }
  },
  "kernelspec": {
   "display_name": "Python 3 (ipykernel)",
   "language": "python",
   "name": "python3"
  },
  "language_info": {
   "codemirror_mode": {
    "name": "ipython",
    "version": 3
   },
   "file_extension": ".py",
   "mimetype": "text/x-python",
   "name": "python",
   "nbconvert_exporter": "python",
   "pygments_lexer": "ipython3",
   "version": "3.10.9"
  },
  "source_map": [
   12,
   28,
   37,
   40,
   52,
   59,
   72,
   77,
   80,
   88,
   102,
   106,
   113,
   115,
   118,
   120,
   126,
   129,
   132,
   134,
   138,
   140
  ]
 },
 "nbformat": 4,
 "nbformat_minor": 5
}