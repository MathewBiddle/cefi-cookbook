{
 "cells": [
  {
   "cell_type": "markdown",
   "id": "596b8028",
   "metadata": {},
   "source": [
    "Accessing ERDDAP using Python\n",
    "===\n",
    "\n",
    "## Packages \n",
    "To use python to access the ERDDAP server directly from your python script or jupyter-notebook, you will need\n",
    "- ERDDAPY\n",
    "- Xarray\n",
    "- netcdf4"
   ]
  },
  {
   "cell_type": "markdown",
   "id": "73474354",
   "metadata": {},
   "source": [
    "## Extract the data from a ERDDAP server\n",
    "In this page, we demonstrate how to use the extract/download data directly from a ERDDAP server and perform data processing, visualization, and export data. \n",
    "\n",
    "```{tip}\n",
    "[Understanding of the ERDDAP server and what it provides](errdapData) is highly recommended before reading the following intructions.\n",
    "```\n",
    "\n",
    "\n",
    "\n",
    "### Import needed python package"
   ]
  },
  {
   "cell_type": "code",
   "execution_count": 1,
   "id": "950daf09",
   "metadata": {},
   "outputs": [],
   "source": [
    "import warnings\n",
    "import cftime\n",
    "import numpy as np\n",
    "import xarray as xr\n",
    "from dask.diagnostics import ProgressBar"
   ]
  },
  {
   "cell_type": "code",
   "execution_count": 2,
   "id": "760cbcee",
   "metadata": {},
   "outputs": [],
   "source": [
    "warnings.simplefilter(\"ignore\")"
   ]
  },
  {
   "cell_type": "markdown",
   "id": "b3840d0b",
   "metadata": {},
   "source": [
    "```{tip}\n",
    "This line of code is not affecting the execution but just removing some warning outputs that might clutter your notebook. \n",
    "However, do pay attention to some of the warnings since they will indicate some deprecation of function and arg/kwarg in future software updates.\n",
    "```\n",
    "\n",
    "## Lazy loading the NMME model data from IRI/LDEO Climate Data Library\n",
    "Like in the previous notebook, we request the metadata from the OPeNDAP server to quickly check the data structure.\n",
    "Four models provide forecasts till the current and hindcast at the time of generating this notebook.\n",
    "Here, we only request one model `GFDL-SPEAR` for demonstration. \n",
    "However, for a better prediction, it is always better to have an ensemble of models with each model having its multiple runs."
   ]
  },
  {
   "cell_type": "code",
   "execution_count": 3,
   "id": "dc9bec25",
   "metadata": {},
   "outputs": [],
   "source": [
    "#### The opendap access\n",
    "model_list = ['GFDL-SPEAR']\n",
    "forecast_list = ['http://iridl.ldeo.columbia.edu/SOURCES/.Models/.NMME/.%s/.FORECAST/.MONTHLY/.sst/dods'%model for model in model_list] \n",
    "\n",
    "hindcast_list = ['http://iridl.ldeo.columbia.edu/SOURCES/.Models/.NMME/.%s/.HINDCAST/.MONTHLY/.sst/dods'%model for model in model_list] "
   ]
  }
 ],
 "metadata": {
  "jupytext": {
   "text_representation": {
    "extension": ".md",
    "format_name": "myst",
    "format_version": 0.13,
    "jupytext_version": "1.14.4"
   }
  },
  "kernelspec": {
   "display_name": "Python 3 (ipykernel)",
   "language": "python",
   "name": "python3"
  },
  "language_info": {
   "codemirror_mode": {
    "name": "ipython",
    "version": 3
   },
   "file_extension": ".py",
   "mimetype": "text/x-python",
   "name": "python",
   "nbconvert_exporter": "python",
   "pygments_lexer": "ipython3",
   "version": "3.9.16"
  },
  "source_map": [
   12,
   23,
   35,
   43,
   45,
   57
  ]
 },
 "nbformat": 4,
 "nbformat_minor": 5
}