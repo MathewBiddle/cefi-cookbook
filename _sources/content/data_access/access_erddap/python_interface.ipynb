{
 "cells": [
  {
   "cell_type": "markdown",
   "id": "5a1ce813",
   "metadata": {},
   "source": [
    "# Accessing ERDDAP using Python\n",
    "\n",
    "\n",
    "\n",
    "\n",
    "## Predicting marine heatwaves\n",
    "Using the NMME (North American Multi-Model Ensemble), [Jacox et al., 2022](http://doi.org/10.1038/s41586-022-04573-9) demonstrate the possibility of predicting the marine heatwaves under a monthly time scale with the lead time up to a year. \n",
    "The [marine heatwaves portal](https://psl.noaa.gov/marine-heatwaves/) forecast hosted at NOAA/PSL website is based on the calculation show in this notebook.\n",
    "\n",
    "### Goals in the notes \n",
    "- the NMME model data from [IRI/LDEO Climate Data Library](http://iridl.ldeo.columbia.edu/SOURCES/.Models/.NMME/)\n",
    "- Calculate the ensemble mean climatology for each model based on hindcast\n",
    "- Calculate the SST anomaly in the forecast\n",
    "- Calculate the threshold based on the SST anomaly\n",
    "- Calculate the marine heatwave in the forecast\n",
    "- Show result"
   ]
  },
  {
   "cell_type": "markdown",
   "id": "859329cc",
   "metadata": {},
   "source": [
    "```{note}\n",
    "The following example is based on the paper [Jacox et al., 2022](http://doi.org/10.1038/s41586-022-04573-9). \n",
    "```\n",
    "\n",
    "## Extract the data from the IRI/LDEO Climate Data Library OPeNDAP server\n",
    "In this notebook, we demonstrate how to use the [NMME model](https://www.cpc.ncep.noaa.gov/products/NMME/) to generate the marine heatwaves prediction.\n",
    "The dataset is currently hosted on [IRI/LDEO Climate Data Library](http://iridl.ldeo.columbia.edu/SOURCES/.Models/.NMME/).\n",
    "\n",
    "```{tip}\n",
    "The OPeNDAP server on the [IRI/LDEO Climate Data Library](http://iridl.ldeo.columbia.edu/SOURCES/.Models/.NMME/) also has a data extraction limit. \n",
    "For solving some of the limit issues, there are some great discussions on this [GitHub issue](https://github.com/pangeo-data/pangeo/issues/767).\n",
    "To summarize, user sometime will need to play a bit on the chunk size to find the optimal download scheme.\n",
    "```\n",
    "\n",
    "\n",
    "\n",
    "### Import needed python package"
   ]
  },
  {
   "cell_type": "code",
   "execution_count": 1,
   "id": "5c001e73",
   "metadata": {},
   "outputs": [],
   "source": [
    "import warnings\n",
    "import cftime\n",
    "import numpy as np\n",
    "import xarray as xr\n",
    "from dask.diagnostics import ProgressBar"
   ]
  },
  {
   "cell_type": "code",
   "execution_count": 2,
   "id": "c0fe3cbb",
   "metadata": {},
   "outputs": [],
   "source": [
    "warnings.simplefilter(\"ignore\")"
   ]
  },
  {
   "cell_type": "markdown",
   "id": "0278350c",
   "metadata": {},
   "source": [
    "```{tip}\n",
    "This line of code is not affecting the execution but just removing some warning outputs that might clutter your notebook. \n",
    "However, do pay attention to some of the warnings since they will indicate some deprecation of function and arg/kwarg in future software updates.\n",
    "```\n",
    "\n",
    "## Lazy loading the NMME model data from IRI/LDEO Climate Data Library\n",
    "Like in the previous notebook, we request the metadata from the OPeNDAP server to quickly check the data structure.\n",
    "Four models provide forecasts till the current and hindcast at the time of generating this notebook.\n",
    "Here, we only request one model `GFDL-SPEAR` for demonstration. \n",
    "However, for a better prediction, it is always better to have an ensemble of models with each model having its multiple runs."
   ]
  },
  {
   "cell_type": "code",
   "execution_count": 3,
   "id": "6dfd8826",
   "metadata": {},
   "outputs": [],
   "source": [
    "#### The opendap access\n",
    "model_list = ['GFDL-SPEAR']\n",
    "forecast_list = ['http://iridl.ldeo.columbia.edu/SOURCES/.Models/.NMME/.%s/.FORECAST/.MONTHLY/.sst/dods'%model for model in model_list] \n",
    "\n",
    "hindcast_list = ['http://iridl.ldeo.columbia.edu/SOURCES/.Models/.NMME/.%s/.HINDCAST/.MONTHLY/.sst/dods'%model for model in model_list] "
   ]
  }
 ],
 "metadata": {
  "jupytext": {
   "text_representation": {
    "extension": ".md",
    "format_name": "myst",
    "format_version": 0.13,
    "jupytext_version": "1.14.4"
   }
  },
  "kernelspec": {
   "display_name": "Python 3 (ipykernel)",
   "language": "python",
   "name": "python3"
  },
  "language_info": {
   "codemirror_mode": {
    "name": "ipython",
    "version": 3
   },
   "file_extension": ".py",
   "mimetype": "text/x-python",
   "name": "python",
   "nbconvert_exporter": "python",
   "pygments_lexer": "ipython3",
   "version": "3.9.16"
  },
  "source_map": [
   12,
   31,
   50,
   58,
   60,
   72
  ]
 },
 "nbformat": 4,
 "nbformat_minor": 5
}