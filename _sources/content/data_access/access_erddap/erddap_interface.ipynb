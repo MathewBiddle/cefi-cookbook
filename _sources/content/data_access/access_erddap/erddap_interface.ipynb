{
 "cells": [
  {
   "cell_type": "markdown",
   "id": "b2bccae2",
   "metadata": {},
   "source": [
    "ERDDAP Server Interface\n",
    "===\n",
    "\n",
    "## Landing Page\n",
    "Usually, the ERDDAP page would look a lot alike.\n",
    "If the institutes/agencies do not specified the related data that is hosted at the front page, it is sometime a bit confusing that which ERDDAP server you have landed on.\n",
    "To give an example, here are three ERDDAP servers that look similar but are hosting very different datasets.\n",
    "- [NOAA IOOS Sensors (Integrated Ocean Observing System)](http://erddap.secoora.org/erddap/index.html)\n",
    "- [Southern California Coastal Ocean Observing System](http://erddap.axiomdatascience.com/erddap/index.html)\n",
    "- [BCO-DMO - Biological and Chemical Oceanography Data Management Office at Woods Hole Oceanographic Institution (WHOI).](https://erddap.bco-dmo.org/erddap/index.html)\n",
    "\n",
    "```{important}\n",
    "The first two ERDDAP servers look almost identical if you do not pay attension to the small differences on the landing page. \n",
    "Sometime the only way to seperate one from another is to go to the \"View a List of All Datasets\" link that is shown on the top right of every landing page.\n",
    "The third ERDDAP server is not hosted by NOAA but WHOI which is more obvious in terms of landing page differences due to the top logo indicating the institution that is maintaining the server.\n",
    "\n",
    "```\n",
    "## Data Listing Page\n",
    "When clicking on the \"View a List of All Datasets\", the ERDDAP server will show the user a tabulated list of data that is hosted on the server. \n",
    "A example page hosted by [NOAA NMFS SWFSC ERD](https://coastwatch.pfeg.noaa.gov/erddap/info/index.html?page=1&itemsPerPage=1000) shows the tabulated list.\n",
    "All dataset that is hosted will be showing in the list. \n",
    "\n",
    "Usually the data can be seperated to two types\n",
    "- **TableDAP Data**\n",
    "- **GridDAP Data**\n",
    "\n",
    "**TableDAP** means the data is in the tabulated format (think of it as excel/google spread sheet with each row containing a data point).\n",
    "**GridDAP** means the data is in the gridded format (think of it as netCDF with longitude, latitude, and time axises for each data point).\n",
    "The `data` link shown on each row under either `TableDap Data` or `GridDap Data` column represents the type of the data of that row.\n",
    "\n",
    "## Downloading individual dataset\n",
    "By click on the `data` link under the [\"GridDAP Data/TableDAP Data\"](https://coastwatch.pfeg.noaa.gov/erddap/griddap/index.html?page=1&itemsPerPage=1000) column, one will be able to see the detail of each dataset.\n",
    "The page would look like [this](https://coastwatch.pfeg.noaa.gov/erddap/griddap/jplAmsreSstMon.html) (Using AMSRE Model Output, obs4MIPs NASA-JPL, Global, 1 Degree, 2002-2010, Monthly dataset as a example).\n",
    "The data page provide a easy way to subset the dataset.\n",
    "The scroll bar shows the available dimension(GridDap)/row(TableDap) for user to set the desired range to subset the data.\n",
    "After the subsetting, user can choose the desired file type and click submit.\n",
    "This will download the file to your local machine throught the browser. \n",
    "````{tip}\n",
    "For more advance usage of downloading dataset in batch using the command line or other computer language, ERDDAP server also provide a way to request a data subset via a specially formed URL.\n",
    "To get the URL, one can press the `Just generate the URL` button on the page to get the specially formed URL.\n",
    "With the command below, user can contruct the command in any language to perform the batch download using `curl`. A more detail description of using curl on ERDDAP URL is [here](https://apdrc.soest.hawaii.edu/erddap/files/documentation.html)\n",
    "```{code-cell} ipython3\n",
    "curl -g \"erddapUrl\" -o /path/file.nc\n",
    "```\n",
    "````\n",
    "\n",
    "\n",
    "## Visualizing individual dataset\n",
    "By clicking on the the `graph` link under the [\"Make A Graph\"]((https://coastwatch.pfeg.noaa.gov/erddap/griddap/index.html?page=1&itemsPerPage=1000)) column, one will be able to visualize the dataset. \n",
    "The server provide the same subsetting method for the visualization.  \n",
    "\n",
    "## Quick view of metadata\n",
    "When entering the `data` or `graph` link, the metadata of the specific dataset is always shown in the bottom of the two pages. \n",
    "However, there is another way to request the metadata from a URL directly. \n",
    "(Using the [Aquarius Sea Surface Salinity, L3 SMI, Version 5, 1.0°, Global, 2011-2015, 3-\n",
    "Month](https://coastwatch.pfeg.noaa.gov/erddap/griddap/jplAquariusSSS3MonthV5.html) data as example)\n",
    "By changing the data page URL from"
   ]
  },
  {
   "cell_type": "code",
   "execution_count": 1,
   "id": "6d7a8eb5",
   "metadata": {},
   "outputs": [
    {
     "ename": "SyntaxError",
     "evalue": "invalid syntax (134107004.py, line 1)",
     "output_type": "error",
     "traceback": [
      "\u001b[0;36m  Cell \u001b[0;32mIn[1], line 1\u001b[0;36m\u001b[0m\n\u001b[0;31m    https://coastwatch.pfeg.noaa.gov/erddap/griddap/jplAquariusSSS3MonthV5.html\u001b[0m\n\u001b[0m          ^\u001b[0m\n\u001b[0;31mSyntaxError\u001b[0m\u001b[0;31m:\u001b[0m invalid syntax\n"
     ]
    }
   ],
   "source": [
    "https://coastwatch.pfeg.noaa.gov/erddap/griddap/jplAquariusSSS3MonthV5.html "
   ]
  },
  {
   "cell_type": "markdown",
   "id": "b0de5048",
   "metadata": {},
   "source": [
    "to"
   ]
  },
  {
   "cell_type": "code",
   "execution_count": null,
   "id": "500f2169",
   "metadata": {},
   "outputs": [],
   "source": [
    "https://coastwatch.pfeg.noaa.gov/erddap/griddap/jplAquariusSSS3MonthV5.das"
   ]
  },
  {
   "cell_type": "markdown",
   "id": "0835ed0e",
   "metadata": {},
   "source": [
    "The metadata will show on the browser directly.\n",
    "This is very similar to the OPeNDAP server approach of getting the Data Attribute Structure (DAS) for a hosted dataset.\n",
    "\n",
    "\n",
    "---\n",
    "\n",
    "## Available ERDDAP servers\n",
    "Since there are many available ERDDAP servers, a list of deployed servers is provided by [NOAA](https://coastwatch.pfeg.noaa.gov/erddap/download/setup.html#organizations)."
   ]
  }
 ],
 "metadata": {
  "jupytext": {
   "text_representation": {
    "extension": ".md",
    "format_name": "myst",
    "format_version": 0.13,
    "jupytext_version": "1.14.4"
   }
  },
  "kernelspec": {
   "display_name": "Python 3 (ipykernel)",
   "language": "python",
   "name": "python3"
  },
  "language_info": {
   "codemirror_mode": {
    "name": "ipython",
    "version": 3
   },
   "file_extension": ".py",
   "mimetype": "text/x-python",
   "name": "python",
   "nbconvert_exporter": "python",
   "pygments_lexer": "ipython3",
   "version": "3.9.16"
  },
  "source_map": [
   12,
   71,
   73,
   75,
   77
  ]
 },
 "nbformat": 4,
 "nbformat_minor": 5
}