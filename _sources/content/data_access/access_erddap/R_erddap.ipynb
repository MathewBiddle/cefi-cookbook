{
 "cells": [
  {
   "cell_type": "code",
   "execution_count": 1,
   "id": "f7d58ec0",
   "metadata": {},
   "outputs": [],
   "source": [
    "library(\"rerddap\")\n",
    "library(\"ncdf4\")"
   ]
  },
  {
   "cell_type": "code",
   "execution_count": 2,
   "id": "4e9c9b41",
   "metadata": {},
   "outputs": [],
   "source": [
    "?rerddap"
   ]
  },
  {
   "cell_type": "code",
   "execution_count": 3,
   "id": "fa69c2f5",
   "metadata": {},
   "outputs": [],
   "source": [
    "whichSST <- ed_search(query = \"ersstv5\")"
   ]
  },
  {
   "cell_type": "code",
   "execution_count": 4,
   "id": "b436ba7e",
   "metadata": {},
   "outputs": [
    {
     "data": {
      "text/plain": [
       "\u001b[90m# A tibble: 9 × 2\u001b[39m\n",
       "  title                                                               dataset_id\n",
       "  \u001b[3m\u001b[90m<chr>\u001b[39m\u001b[23m                                                               \u001b[3m\u001b[90m<chr>\u001b[39m\u001b[23m     \n",
       "\u001b[90m1\u001b[39m NOAA ERSSTv5 (in situ only) (sst.mnmean), 2.0°, 1854-present        noaa_psl_…\n",
       "\u001b[90m2\u001b[39m NOAA ERSSTv5 (in situ only) (sst.mon.ltm), 2.0°, 0001               noaa_psl_…\n",
       "\u001b[90m3\u001b[39m NOAA ERSSTv5 (in situ only) (sst.mon.ltm.1981-2010), 2.0°, 0001     noaa_psl_…\n",
       "\u001b[90m4\u001b[39m NOAA ERSSTv5 (in situ only) (sst.mon.ltm.1991-2020), 2.0°, 0001     noaa_psl_…\n",
       "\u001b[90m5\u001b[39m NOAA ERSSTv5 (in situ only), 2°, Global, Monthly, 1854-present      nceiErsst…\n",
       "\u001b[90m6\u001b[39m NOAA ERSSTv5 (in situ only), 2°, Global, Monthly, 1854-present, Lo… nceiErsst…\n",
       "\u001b[90m7\u001b[39m NOAA Merged Land Ocean Global Surface Temperature Analysis (NOAAGl… noaa_psl_…\n",
       "\u001b[90m8\u001b[39m NOAA Merged Land Ocean Global Surface Temperature Analysis (NOAAGl… noaa_psl_…\n",
       "\u001b[90m9\u001b[39m NOAA Merged Land Ocean Global Surface Temperature Analysis (NOAAGl… noaa_psl_…"
      ]
     },
     "metadata": {},
     "output_type": "display_data"
    }
   ],
   "source": [
    "whichSST"
   ]
  },
  {
   "cell_type": "code",
   "execution_count": 5,
   "id": "5a2ffb99",
   "metadata": {},
   "outputs": [
    {
     "data": {
      "text/plain": [
       "<ERDDAP info> nceiErsstv5_LonPM180 \n",
       " Base URL: https://upwell.pfeg.noaa.gov/erddap \n",
       " Dataset Type: griddap \n",
       " Dimensions (range):  \n",
       "     time: (1854-01-01T00:00:00Z, 2023-04-15T00:00:00Z) \n",
       "     depth: (0.0, 0.0) \n",
       "     latitude: (-88.0, 88.0) \n",
       "     longitude: (-180.0, 178.0) \n",
       " Variables:  \n",
       "     sst: \n",
       "         Units: degree_C \n",
       "     ssta: \n",
       "         Units: degree_C "
      ]
     },
     "metadata": {},
     "output_type": "display_data"
    }
   ],
   "source": [
    "info('nceiErsstv5_LonPM180')"
   ]
  },
  {
   "cell_type": "code",
   "execution_count": 6,
   "id": "cc53af59",
   "metadata": {},
   "outputs": [
    {
     "name": "stderr",
     "output_type": "stream",
     "text": [
      "info() output passed to x; setting base url to: https://upwell.pfeg.noaa.gov/erddap\n",
      "\n"
     ]
    }
   ],
   "source": [
    "sstInfo <- info('nceiErsstv5_LonPM180')\n",
    "erSST <- griddap(sstInfo, latitude = c(22., 51.), longitude = c(-140., -105), time = c(\"2017-01-01\", \"2017-01-02\"), fields = 'ssta')"
   ]
  },
  {
   "cell_type": "code",
   "execution_count": 7,
   "id": "1a7d85c1",
   "metadata": {},
   "outputs": [
    {
     "data": {
      "text/plain": [
       "<ERDDAP griddap> nceiErsstv5_LonPM180\n",
       "   Path: [/tmp/Rtmp2rpH6N/R/rerddap/555cf83de304058d6b67ceda0735f045.nc]\n",
       "   Last updated: [2023-05-23 09:32:43]\n",
       "   File size:    [0.01 mb]\n",
       "   Dimensions (dims/vars):   [4 X 1]\n",
       "   Dim names: time, depth, latitude, longitude\n",
       "   Variable names: Extended reconstructed SST anomalies\n",
       "   data.frame (rows/columns):   [304 X 5]\n",
       "\u001b[90m# A tibble: 304 × 5\u001b[39m\n",
       "   longitude  latitude     depth time                  ssta\n",
       "   \u001b[3m\u001b[90m<dbl[1d]>\u001b[39m\u001b[23m \u001b[3m\u001b[90m<dbl[1d]>\u001b[39m\u001b[23m \u001b[3m\u001b[90m<dbl[1d]>\u001b[39m\u001b[23m \u001b[3m\u001b[90m<chr>\u001b[39m\u001b[23m                \u001b[3m\u001b[90m<dbl>\u001b[39m\u001b[23m\n",
       "\u001b[90m 1\u001b[39m      -\u001b[31m140\u001b[39m        22         0 2017-01-15T00:00:00Z 0.498\n",
       "\u001b[90m 2\u001b[39m      -\u001b[31m138\u001b[39m        22         0 2017-01-15T00:00:00Z 0.548\n",
       "\u001b[90m 3\u001b[39m      -\u001b[31m136\u001b[39m        22         0 2017-01-15T00:00:00Z 0.629\n",
       "\u001b[90m 4\u001b[39m      -\u001b[31m134\u001b[39m        22         0 2017-01-15T00:00:00Z 0.698\n",
       "\u001b[90m 5\u001b[39m      -\u001b[31m132\u001b[39m        22         0 2017-01-15T00:00:00Z 0.734\n",
       "\u001b[90m 6\u001b[39m      -\u001b[31m130\u001b[39m        22         0 2017-01-15T00:00:00Z 0.763\n",
       "\u001b[90m 7\u001b[39m      -\u001b[31m128\u001b[39m        22         0 2017-01-15T00:00:00Z 0.821\n",
       "\u001b[90m 8\u001b[39m      -\u001b[31m126\u001b[39m        22         0 2017-01-15T00:00:00Z 0.873\n",
       "\u001b[90m 9\u001b[39m      -\u001b[31m124\u001b[39m        22         0 2017-01-15T00:00:00Z 0.860\n",
       "\u001b[90m10\u001b[39m      -\u001b[31m122\u001b[39m        22         0 2017-01-15T00:00:00Z 0.768\n",
       "\u001b[90m# ℹ 294 more rows\u001b[39m"
      ]
     },
     "metadata": {},
     "output_type": "display_data"
    }
   ],
   "source": [
    "erSST"
   ]
  },
  {
   "cell_type": "code",
   "execution_count": 8,
   "id": "feab8515",
   "metadata": {},
   "outputs": [
    {
     "data": {
      "text/html": [
       "<table class=\"dataframe\">\n",
       "<caption>A data.frame: 304 × 5</caption>\n",
       "<thead>\n",
       "\t<tr><th scope=col>longitude</th><th scope=col>latitude</th><th scope=col>depth</th><th scope=col>time</th><th scope=col>ssta</th></tr>\n",
       "\t<tr><th scope=col>&lt;dbl[1d]&gt;</th><th scope=col>&lt;dbl[1d]&gt;</th><th scope=col>&lt;dbl[1d]&gt;</th><th scope=col>&lt;chr&gt;</th><th scope=col>&lt;dbl&gt;</th></tr>\n",
       "</thead>\n",
       "<tbody>\n",
       "\t<tr><td>-140</td><td>22</td><td>0</td><td>2017-01-15T00:00:00Z</td><td>0.4975815</td></tr>\n",
       "\t<tr><td>-138</td><td>22</td><td>0</td><td>2017-01-15T00:00:00Z</td><td>0.5484982</td></tr>\n",
       "\t<tr><td>-136</td><td>22</td><td>0</td><td>2017-01-15T00:00:00Z</td><td>0.6286888</td></tr>\n",
       "\t<tr><td>-134</td><td>22</td><td>0</td><td>2017-01-15T00:00:00Z</td><td>0.6980591</td></tr>\n",
       "\t<tr><td>-132</td><td>22</td><td>0</td><td>2017-01-15T00:00:00Z</td><td>0.7338963</td></tr>\n",
       "\t<tr><td>-130</td><td>22</td><td>0</td><td>2017-01-15T00:00:00Z</td><td>0.7631321</td></tr>\n",
       "\t<tr><td>-128</td><td>22</td><td>0</td><td>2017-01-15T00:00:00Z</td><td>0.8205128</td></tr>\n",
       "\t<tr><td>-126</td><td>22</td><td>0</td><td>2017-01-15T00:00:00Z</td><td>0.8727989</td></tr>\n",
       "\t<tr><td>-124</td><td>22</td><td>0</td><td>2017-01-15T00:00:00Z</td><td>0.8595047</td></tr>\n",
       "\t<tr><td>-122</td><td>22</td><td>0</td><td>2017-01-15T00:00:00Z</td><td>0.7678528</td></tr>\n",
       "\t<tr><td>-120</td><td>22</td><td>0</td><td>2017-01-15T00:00:00Z</td><td>0.6379509</td></tr>\n",
       "\t<tr><td>-118</td><td>22</td><td>0</td><td>2017-01-15T00:00:00Z</td><td>0.5156460</td></tr>\n",
       "\t<tr><td>-116</td><td>22</td><td>0</td><td>2017-01-15T00:00:00Z</td><td>0.3866863</td></tr>\n",
       "\t<tr><td>-114</td><td>22</td><td>0</td><td>2017-01-15T00:00:00Z</td><td>0.3033581</td></tr>\n",
       "\t<tr><td>-112</td><td>22</td><td>0</td><td>2017-01-15T00:00:00Z</td><td>0.2495575</td></tr>\n",
       "\t<tr><td>-110</td><td>22</td><td>0</td><td>2017-01-15T00:00:00Z</td><td>0.2187004</td></tr>\n",
       "\t<tr><td>-108</td><td>22</td><td>0</td><td>2017-01-15T00:00:00Z</td><td>0.2276649</td></tr>\n",
       "\t<tr><td>-106</td><td>22</td><td>0</td><td>2017-01-15T00:00:00Z</td><td>0.2507744</td></tr>\n",
       "\t<tr><td>-104</td><td>22</td><td>0</td><td>2017-01-15T00:00:00Z</td><td>      NaN</td></tr>\n",
       "\t<tr><td>-140</td><td>24</td><td>0</td><td>2017-01-15T00:00:00Z</td><td>0.5302029</td></tr>\n",
       "\t<tr><td>-138</td><td>24</td><td>0</td><td>2017-01-15T00:00:00Z</td><td>0.5568810</td></tr>\n",
       "\t<tr><td>-136</td><td>24</td><td>0</td><td>2017-01-15T00:00:00Z</td><td>0.5974770</td></tr>\n",
       "\t<tr><td>-134</td><td>24</td><td>0</td><td>2017-01-15T00:00:00Z</td><td>0.6192532</td></tr>\n",
       "\t<tr><td>-132</td><td>24</td><td>0</td><td>2017-01-15T00:00:00Z</td><td>0.6023712</td></tr>\n",
       "\t<tr><td>-130</td><td>24</td><td>0</td><td>2017-01-15T00:00:00Z</td><td>0.5866547</td></tr>\n",
       "\t<tr><td>-128</td><td>24</td><td>0</td><td>2017-01-15T00:00:00Z</td><td>0.6152802</td></tr>\n",
       "\t<tr><td>-126</td><td>24</td><td>0</td><td>2017-01-15T00:00:00Z</td><td>0.6616249</td></tr>\n",
       "\t<tr><td>-124</td><td>24</td><td>0</td><td>2017-01-15T00:00:00Z</td><td>0.6624088</td></tr>\n",
       "\t<tr><td>-122</td><td>24</td><td>0</td><td>2017-01-15T00:00:00Z</td><td>0.6034908</td></tr>\n",
       "\t<tr><td>-120</td><td>24</td><td>0</td><td>2017-01-15T00:00:00Z</td><td>0.5108833</td></tr>\n",
       "\t<tr><td>⋮</td><td>⋮</td><td>⋮</td><td>⋮</td><td>⋮</td></tr>\n",
       "\t<tr><td>-124</td><td>50</td><td>0</td><td>2017-01-15T00:00:00Z</td><td>0.3266554</td></tr>\n",
       "\t<tr><td>-122</td><td>50</td><td>0</td><td>2017-01-15T00:00:00Z</td><td>      NaN</td></tr>\n",
       "\t<tr><td>-120</td><td>50</td><td>0</td><td>2017-01-15T00:00:00Z</td><td>      NaN</td></tr>\n",
       "\t<tr><td>-118</td><td>50</td><td>0</td><td>2017-01-15T00:00:00Z</td><td>      NaN</td></tr>\n",
       "\t<tr><td>-116</td><td>50</td><td>0</td><td>2017-01-15T00:00:00Z</td><td>      NaN</td></tr>\n",
       "\t<tr><td>-114</td><td>50</td><td>0</td><td>2017-01-15T00:00:00Z</td><td>      NaN</td></tr>\n",
       "\t<tr><td>-112</td><td>50</td><td>0</td><td>2017-01-15T00:00:00Z</td><td>      NaN</td></tr>\n",
       "\t<tr><td>-110</td><td>50</td><td>0</td><td>2017-01-15T00:00:00Z</td><td>      NaN</td></tr>\n",
       "\t<tr><td>-108</td><td>50</td><td>0</td><td>2017-01-15T00:00:00Z</td><td>      NaN</td></tr>\n",
       "\t<tr><td>-106</td><td>50</td><td>0</td><td>2017-01-15T00:00:00Z</td><td>      NaN</td></tr>\n",
       "\t<tr><td>-104</td><td>50</td><td>0</td><td>2017-01-15T00:00:00Z</td><td>      NaN</td></tr>\n",
       "\t<tr><td>-140</td><td>52</td><td>0</td><td>2017-01-15T00:00:00Z</td><td>0.1538076</td></tr>\n",
       "\t<tr><td>-138</td><td>52</td><td>0</td><td>2017-01-15T00:00:00Z</td><td>0.1613760</td></tr>\n",
       "\t<tr><td>-136</td><td>52</td><td>0</td><td>2017-01-15T00:00:00Z</td><td>0.1883817</td></tr>\n",
       "\t<tr><td>-134</td><td>52</td><td>0</td><td>2017-01-15T00:00:00Z</td><td>0.2515111</td></tr>\n",
       "\t<tr><td>-132</td><td>52</td><td>0</td><td>2017-01-15T00:00:00Z</td><td>0.3357005</td></tr>\n",
       "\t<tr><td>-130</td><td>52</td><td>0</td><td>2017-01-15T00:00:00Z</td><td>0.3924646</td></tr>\n",
       "\t<tr><td>-128</td><td>52</td><td>0</td><td>2017-01-15T00:00:00Z</td><td>0.4165292</td></tr>\n",
       "\t<tr><td>-126</td><td>52</td><td>0</td><td>2017-01-15T00:00:00Z</td><td>      NaN</td></tr>\n",
       "\t<tr><td>-124</td><td>52</td><td>0</td><td>2017-01-15T00:00:00Z</td><td>      NaN</td></tr>\n",
       "\t<tr><td>-122</td><td>52</td><td>0</td><td>2017-01-15T00:00:00Z</td><td>      NaN</td></tr>\n",
       "\t<tr><td>-120</td><td>52</td><td>0</td><td>2017-01-15T00:00:00Z</td><td>      NaN</td></tr>\n",
       "\t<tr><td>-118</td><td>52</td><td>0</td><td>2017-01-15T00:00:00Z</td><td>      NaN</td></tr>\n",
       "\t<tr><td>-116</td><td>52</td><td>0</td><td>2017-01-15T00:00:00Z</td><td>      NaN</td></tr>\n",
       "\t<tr><td>-114</td><td>52</td><td>0</td><td>2017-01-15T00:00:00Z</td><td>      NaN</td></tr>\n",
       "\t<tr><td>-112</td><td>52</td><td>0</td><td>2017-01-15T00:00:00Z</td><td>      NaN</td></tr>\n",
       "\t<tr><td>-110</td><td>52</td><td>0</td><td>2017-01-15T00:00:00Z</td><td>      NaN</td></tr>\n",
       "\t<tr><td>-108</td><td>52</td><td>0</td><td>2017-01-15T00:00:00Z</td><td>      NaN</td></tr>\n",
       "\t<tr><td>-106</td><td>52</td><td>0</td><td>2017-01-15T00:00:00Z</td><td>      NaN</td></tr>\n",
       "\t<tr><td>-104</td><td>52</td><td>0</td><td>2017-01-15T00:00:00Z</td><td>      NaN</td></tr>\n",
       "</tbody>\n",
       "</table>\n"
      ],
      "text/latex": [
       "A data.frame: 304 × 5\n",
       "\\begin{tabular}{lllll}\n",
       " longitude & latitude & depth & time & ssta\\\\\n",
       " <dbl{[}1d{]}> & <dbl{[}1d{]}> & <dbl{[}1d{]}> & <chr> & <dbl>\\\\\n",
       "\\hline\n",
       "\t -140 & 22 & 0 & 2017-01-15T00:00:00Z & 0.4975815\\\\\n",
       "\t -138 & 22 & 0 & 2017-01-15T00:00:00Z & 0.5484982\\\\\n",
       "\t -136 & 22 & 0 & 2017-01-15T00:00:00Z & 0.6286888\\\\\n",
       "\t -134 & 22 & 0 & 2017-01-15T00:00:00Z & 0.6980591\\\\\n",
       "\t -132 & 22 & 0 & 2017-01-15T00:00:00Z & 0.7338963\\\\\n",
       "\t -130 & 22 & 0 & 2017-01-15T00:00:00Z & 0.7631321\\\\\n",
       "\t -128 & 22 & 0 & 2017-01-15T00:00:00Z & 0.8205128\\\\\n",
       "\t -126 & 22 & 0 & 2017-01-15T00:00:00Z & 0.8727989\\\\\n",
       "\t -124 & 22 & 0 & 2017-01-15T00:00:00Z & 0.8595047\\\\\n",
       "\t -122 & 22 & 0 & 2017-01-15T00:00:00Z & 0.7678528\\\\\n",
       "\t -120 & 22 & 0 & 2017-01-15T00:00:00Z & 0.6379509\\\\\n",
       "\t -118 & 22 & 0 & 2017-01-15T00:00:00Z & 0.5156460\\\\\n",
       "\t -116 & 22 & 0 & 2017-01-15T00:00:00Z & 0.3866863\\\\\n",
       "\t -114 & 22 & 0 & 2017-01-15T00:00:00Z & 0.3033581\\\\\n",
       "\t -112 & 22 & 0 & 2017-01-15T00:00:00Z & 0.2495575\\\\\n",
       "\t -110 & 22 & 0 & 2017-01-15T00:00:00Z & 0.2187004\\\\\n",
       "\t -108 & 22 & 0 & 2017-01-15T00:00:00Z & 0.2276649\\\\\n",
       "\t -106 & 22 & 0 & 2017-01-15T00:00:00Z & 0.2507744\\\\\n",
       "\t -104 & 22 & 0 & 2017-01-15T00:00:00Z &       NaN\\\\\n",
       "\t -140 & 24 & 0 & 2017-01-15T00:00:00Z & 0.5302029\\\\\n",
       "\t -138 & 24 & 0 & 2017-01-15T00:00:00Z & 0.5568810\\\\\n",
       "\t -136 & 24 & 0 & 2017-01-15T00:00:00Z & 0.5974770\\\\\n",
       "\t -134 & 24 & 0 & 2017-01-15T00:00:00Z & 0.6192532\\\\\n",
       "\t -132 & 24 & 0 & 2017-01-15T00:00:00Z & 0.6023712\\\\\n",
       "\t -130 & 24 & 0 & 2017-01-15T00:00:00Z & 0.5866547\\\\\n",
       "\t -128 & 24 & 0 & 2017-01-15T00:00:00Z & 0.6152802\\\\\n",
       "\t -126 & 24 & 0 & 2017-01-15T00:00:00Z & 0.6616249\\\\\n",
       "\t -124 & 24 & 0 & 2017-01-15T00:00:00Z & 0.6624088\\\\\n",
       "\t -122 & 24 & 0 & 2017-01-15T00:00:00Z & 0.6034908\\\\\n",
       "\t -120 & 24 & 0 & 2017-01-15T00:00:00Z & 0.5108833\\\\\n",
       "\t ⋮ & ⋮ & ⋮ & ⋮ & ⋮\\\\\n",
       "\t -124 & 50 & 0 & 2017-01-15T00:00:00Z & 0.3266554\\\\\n",
       "\t -122 & 50 & 0 & 2017-01-15T00:00:00Z &       NaN\\\\\n",
       "\t -120 & 50 & 0 & 2017-01-15T00:00:00Z &       NaN\\\\\n",
       "\t -118 & 50 & 0 & 2017-01-15T00:00:00Z &       NaN\\\\\n",
       "\t -116 & 50 & 0 & 2017-01-15T00:00:00Z &       NaN\\\\\n",
       "\t -114 & 50 & 0 & 2017-01-15T00:00:00Z &       NaN\\\\\n",
       "\t -112 & 50 & 0 & 2017-01-15T00:00:00Z &       NaN\\\\\n",
       "\t -110 & 50 & 0 & 2017-01-15T00:00:00Z &       NaN\\\\\n",
       "\t -108 & 50 & 0 & 2017-01-15T00:00:00Z &       NaN\\\\\n",
       "\t -106 & 50 & 0 & 2017-01-15T00:00:00Z &       NaN\\\\\n",
       "\t -104 & 50 & 0 & 2017-01-15T00:00:00Z &       NaN\\\\\n",
       "\t -140 & 52 & 0 & 2017-01-15T00:00:00Z & 0.1538076\\\\\n",
       "\t -138 & 52 & 0 & 2017-01-15T00:00:00Z & 0.1613760\\\\\n",
       "\t -136 & 52 & 0 & 2017-01-15T00:00:00Z & 0.1883817\\\\\n",
       "\t -134 & 52 & 0 & 2017-01-15T00:00:00Z & 0.2515111\\\\\n",
       "\t -132 & 52 & 0 & 2017-01-15T00:00:00Z & 0.3357005\\\\\n",
       "\t -130 & 52 & 0 & 2017-01-15T00:00:00Z & 0.3924646\\\\\n",
       "\t -128 & 52 & 0 & 2017-01-15T00:00:00Z & 0.4165292\\\\\n",
       "\t -126 & 52 & 0 & 2017-01-15T00:00:00Z &       NaN\\\\\n",
       "\t -124 & 52 & 0 & 2017-01-15T00:00:00Z &       NaN\\\\\n",
       "\t -122 & 52 & 0 & 2017-01-15T00:00:00Z &       NaN\\\\\n",
       "\t -120 & 52 & 0 & 2017-01-15T00:00:00Z &       NaN\\\\\n",
       "\t -118 & 52 & 0 & 2017-01-15T00:00:00Z &       NaN\\\\\n",
       "\t -116 & 52 & 0 & 2017-01-15T00:00:00Z &       NaN\\\\\n",
       "\t -114 & 52 & 0 & 2017-01-15T00:00:00Z &       NaN\\\\\n",
       "\t -112 & 52 & 0 & 2017-01-15T00:00:00Z &       NaN\\\\\n",
       "\t -110 & 52 & 0 & 2017-01-15T00:00:00Z &       NaN\\\\\n",
       "\t -108 & 52 & 0 & 2017-01-15T00:00:00Z &       NaN\\\\\n",
       "\t -106 & 52 & 0 & 2017-01-15T00:00:00Z &       NaN\\\\\n",
       "\t -104 & 52 & 0 & 2017-01-15T00:00:00Z &       NaN\\\\\n",
       "\\end{tabular}\n"
      ],
      "text/markdown": [
       "\n",
       "A data.frame: 304 × 5\n",
       "\n",
       "| longitude &lt;dbl[1d]&gt; | latitude &lt;dbl[1d]&gt; | depth &lt;dbl[1d]&gt; | time &lt;chr&gt; | ssta &lt;dbl&gt; |\n",
       "|---|---|---|---|---|\n",
       "| -140 | 22 | 0 | 2017-01-15T00:00:00Z | 0.4975815 |\n",
       "| -138 | 22 | 0 | 2017-01-15T00:00:00Z | 0.5484982 |\n",
       "| -136 | 22 | 0 | 2017-01-15T00:00:00Z | 0.6286888 |\n",
       "| -134 | 22 | 0 | 2017-01-15T00:00:00Z | 0.6980591 |\n",
       "| -132 | 22 | 0 | 2017-01-15T00:00:00Z | 0.7338963 |\n",
       "| -130 | 22 | 0 | 2017-01-15T00:00:00Z | 0.7631321 |\n",
       "| -128 | 22 | 0 | 2017-01-15T00:00:00Z | 0.8205128 |\n",
       "| -126 | 22 | 0 | 2017-01-15T00:00:00Z | 0.8727989 |\n",
       "| -124 | 22 | 0 | 2017-01-15T00:00:00Z | 0.8595047 |\n",
       "| -122 | 22 | 0 | 2017-01-15T00:00:00Z | 0.7678528 |\n",
       "| -120 | 22 | 0 | 2017-01-15T00:00:00Z | 0.6379509 |\n",
       "| -118 | 22 | 0 | 2017-01-15T00:00:00Z | 0.5156460 |\n",
       "| -116 | 22 | 0 | 2017-01-15T00:00:00Z | 0.3866863 |\n",
       "| -114 | 22 | 0 | 2017-01-15T00:00:00Z | 0.3033581 |\n",
       "| -112 | 22 | 0 | 2017-01-15T00:00:00Z | 0.2495575 |\n",
       "| -110 | 22 | 0 | 2017-01-15T00:00:00Z | 0.2187004 |\n",
       "| -108 | 22 | 0 | 2017-01-15T00:00:00Z | 0.2276649 |\n",
       "| -106 | 22 | 0 | 2017-01-15T00:00:00Z | 0.2507744 |\n",
       "| -104 | 22 | 0 | 2017-01-15T00:00:00Z |       NaN |\n",
       "| -140 | 24 | 0 | 2017-01-15T00:00:00Z | 0.5302029 |\n",
       "| -138 | 24 | 0 | 2017-01-15T00:00:00Z | 0.5568810 |\n",
       "| -136 | 24 | 0 | 2017-01-15T00:00:00Z | 0.5974770 |\n",
       "| -134 | 24 | 0 | 2017-01-15T00:00:00Z | 0.6192532 |\n",
       "| -132 | 24 | 0 | 2017-01-15T00:00:00Z | 0.6023712 |\n",
       "| -130 | 24 | 0 | 2017-01-15T00:00:00Z | 0.5866547 |\n",
       "| -128 | 24 | 0 | 2017-01-15T00:00:00Z | 0.6152802 |\n",
       "| -126 | 24 | 0 | 2017-01-15T00:00:00Z | 0.6616249 |\n",
       "| -124 | 24 | 0 | 2017-01-15T00:00:00Z | 0.6624088 |\n",
       "| -122 | 24 | 0 | 2017-01-15T00:00:00Z | 0.6034908 |\n",
       "| -120 | 24 | 0 | 2017-01-15T00:00:00Z | 0.5108833 |\n",
       "| ⋮ | ⋮ | ⋮ | ⋮ | ⋮ |\n",
       "| -124 | 50 | 0 | 2017-01-15T00:00:00Z | 0.3266554 |\n",
       "| -122 | 50 | 0 | 2017-01-15T00:00:00Z |       NaN |\n",
       "| -120 | 50 | 0 | 2017-01-15T00:00:00Z |       NaN |\n",
       "| -118 | 50 | 0 | 2017-01-15T00:00:00Z |       NaN |\n",
       "| -116 | 50 | 0 | 2017-01-15T00:00:00Z |       NaN |\n",
       "| -114 | 50 | 0 | 2017-01-15T00:00:00Z |       NaN |\n",
       "| -112 | 50 | 0 | 2017-01-15T00:00:00Z |       NaN |\n",
       "| -110 | 50 | 0 | 2017-01-15T00:00:00Z |       NaN |\n",
       "| -108 | 50 | 0 | 2017-01-15T00:00:00Z |       NaN |\n",
       "| -106 | 50 | 0 | 2017-01-15T00:00:00Z |       NaN |\n",
       "| -104 | 50 | 0 | 2017-01-15T00:00:00Z |       NaN |\n",
       "| -140 | 52 | 0 | 2017-01-15T00:00:00Z | 0.1538076 |\n",
       "| -138 | 52 | 0 | 2017-01-15T00:00:00Z | 0.1613760 |\n",
       "| -136 | 52 | 0 | 2017-01-15T00:00:00Z | 0.1883817 |\n",
       "| -134 | 52 | 0 | 2017-01-15T00:00:00Z | 0.2515111 |\n",
       "| -132 | 52 | 0 | 2017-01-15T00:00:00Z | 0.3357005 |\n",
       "| -130 | 52 | 0 | 2017-01-15T00:00:00Z | 0.3924646 |\n",
       "| -128 | 52 | 0 | 2017-01-15T00:00:00Z | 0.4165292 |\n",
       "| -126 | 52 | 0 | 2017-01-15T00:00:00Z |       NaN |\n",
       "| -124 | 52 | 0 | 2017-01-15T00:00:00Z |       NaN |\n",
       "| -122 | 52 | 0 | 2017-01-15T00:00:00Z |       NaN |\n",
       "| -120 | 52 | 0 | 2017-01-15T00:00:00Z |       NaN |\n",
       "| -118 | 52 | 0 | 2017-01-15T00:00:00Z |       NaN |\n",
       "| -116 | 52 | 0 | 2017-01-15T00:00:00Z |       NaN |\n",
       "| -114 | 52 | 0 | 2017-01-15T00:00:00Z |       NaN |\n",
       "| -112 | 52 | 0 | 2017-01-15T00:00:00Z |       NaN |\n",
       "| -110 | 52 | 0 | 2017-01-15T00:00:00Z |       NaN |\n",
       "| -108 | 52 | 0 | 2017-01-15T00:00:00Z |       NaN |\n",
       "| -106 | 52 | 0 | 2017-01-15T00:00:00Z |       NaN |\n",
       "| -104 | 52 | 0 | 2017-01-15T00:00:00Z |       NaN |\n",
       "\n"
      ],
      "text/plain": [
       "    longitude latitude depth time                 ssta     \n",
       "1   -140      22       0     2017-01-15T00:00:00Z 0.4975815\n",
       "2   -138      22       0     2017-01-15T00:00:00Z 0.5484982\n",
       "3   -136      22       0     2017-01-15T00:00:00Z 0.6286888\n",
       "4   -134      22       0     2017-01-15T00:00:00Z 0.6980591\n",
       "5   -132      22       0     2017-01-15T00:00:00Z 0.7338963\n",
       "6   -130      22       0     2017-01-15T00:00:00Z 0.7631321\n",
       "7   -128      22       0     2017-01-15T00:00:00Z 0.8205128\n",
       "8   -126      22       0     2017-01-15T00:00:00Z 0.8727989\n",
       "9   -124      22       0     2017-01-15T00:00:00Z 0.8595047\n",
       "10  -122      22       0     2017-01-15T00:00:00Z 0.7678528\n",
       "11  -120      22       0     2017-01-15T00:00:00Z 0.6379509\n",
       "12  -118      22       0     2017-01-15T00:00:00Z 0.5156460\n",
       "13  -116      22       0     2017-01-15T00:00:00Z 0.3866863\n",
       "14  -114      22       0     2017-01-15T00:00:00Z 0.3033581\n",
       "15  -112      22       0     2017-01-15T00:00:00Z 0.2495575\n",
       "16  -110      22       0     2017-01-15T00:00:00Z 0.2187004\n",
       "17  -108      22       0     2017-01-15T00:00:00Z 0.2276649\n",
       "18  -106      22       0     2017-01-15T00:00:00Z 0.2507744\n",
       "19  -104      22       0     2017-01-15T00:00:00Z       NaN\n",
       "20  -140      24       0     2017-01-15T00:00:00Z 0.5302029\n",
       "21  -138      24       0     2017-01-15T00:00:00Z 0.5568810\n",
       "22  -136      24       0     2017-01-15T00:00:00Z 0.5974770\n",
       "23  -134      24       0     2017-01-15T00:00:00Z 0.6192532\n",
       "24  -132      24       0     2017-01-15T00:00:00Z 0.6023712\n",
       "25  -130      24       0     2017-01-15T00:00:00Z 0.5866547\n",
       "26  -128      24       0     2017-01-15T00:00:00Z 0.6152802\n",
       "27  -126      24       0     2017-01-15T00:00:00Z 0.6616249\n",
       "28  -124      24       0     2017-01-15T00:00:00Z 0.6624088\n",
       "29  -122      24       0     2017-01-15T00:00:00Z 0.6034908\n",
       "30  -120      24       0     2017-01-15T00:00:00Z 0.5108833\n",
       "⋮   ⋮         ⋮        ⋮     ⋮                    ⋮        \n",
       "275 -124      50       0     2017-01-15T00:00:00Z 0.3266554\n",
       "276 -122      50       0     2017-01-15T00:00:00Z       NaN\n",
       "277 -120      50       0     2017-01-15T00:00:00Z       NaN\n",
       "278 -118      50       0     2017-01-15T00:00:00Z       NaN\n",
       "279 -116      50       0     2017-01-15T00:00:00Z       NaN\n",
       "280 -114      50       0     2017-01-15T00:00:00Z       NaN\n",
       "281 -112      50       0     2017-01-15T00:00:00Z       NaN\n",
       "282 -110      50       0     2017-01-15T00:00:00Z       NaN\n",
       "283 -108      50       0     2017-01-15T00:00:00Z       NaN\n",
       "284 -106      50       0     2017-01-15T00:00:00Z       NaN\n",
       "285 -104      50       0     2017-01-15T00:00:00Z       NaN\n",
       "286 -140      52       0     2017-01-15T00:00:00Z 0.1538076\n",
       "287 -138      52       0     2017-01-15T00:00:00Z 0.1613760\n",
       "288 -136      52       0     2017-01-15T00:00:00Z 0.1883817\n",
       "289 -134      52       0     2017-01-15T00:00:00Z 0.2515111\n",
       "290 -132      52       0     2017-01-15T00:00:00Z 0.3357005\n",
       "291 -130      52       0     2017-01-15T00:00:00Z 0.3924646\n",
       "292 -128      52       0     2017-01-15T00:00:00Z 0.4165292\n",
       "293 -126      52       0     2017-01-15T00:00:00Z       NaN\n",
       "294 -124      52       0     2017-01-15T00:00:00Z       NaN\n",
       "295 -122      52       0     2017-01-15T00:00:00Z       NaN\n",
       "296 -120      52       0     2017-01-15T00:00:00Z       NaN\n",
       "297 -118      52       0     2017-01-15T00:00:00Z       NaN\n",
       "298 -116      52       0     2017-01-15T00:00:00Z       NaN\n",
       "299 -114      52       0     2017-01-15T00:00:00Z       NaN\n",
       "300 -112      52       0     2017-01-15T00:00:00Z       NaN\n",
       "301 -110      52       0     2017-01-15T00:00:00Z       NaN\n",
       "302 -108      52       0     2017-01-15T00:00:00Z       NaN\n",
       "303 -106      52       0     2017-01-15T00:00:00Z       NaN\n",
       "304 -104      52       0     2017-01-15T00:00:00Z       NaN"
      ]
     },
     "metadata": {},
     "output_type": "display_data"
    }
   ],
   "source": [
    "erSST$data"
   ]
  },
  {
   "cell_type": "code",
   "execution_count": 9,
   "id": "939c27d3",
   "metadata": {},
   "outputs": [],
   "source": [
    "urlBase <- \"https://gliders.ioos.us/erddap/\"\n",
    "dataInfo <- rerddap::info(\"allDatasets\", url = urlBase)\n",
    "parameter <- \"allDatasets\""
   ]
  },
  {
   "cell_type": "code",
   "execution_count": 10,
   "id": "2f395a05",
   "metadata": {},
   "outputs": [
    {
     "name": "stderr",
     "output_type": "stream",
     "text": [
      "info() output passed to x; setting base url to: https://gliders.ioos.us/erddap\n",
      "\n"
     ]
    }
   ],
   "source": [
    "allGlider <- tabledap(dataInfo)"
   ]
  },
  {
   "cell_type": "code",
   "execution_count": 11,
   "id": "499bbc2e",
   "metadata": {},
   "outputs": [
    {
     "data": {
      "text/html": [
       "<table class=\"dataframe\">\n",
       "<caption>A tabledap: 10 × 3</caption>\n",
       "<thead>\n",
       "\t<tr><th></th><th scope=col>datasetID</th><th scope=col>accessible</th><th scope=col>institution</th></tr>\n",
       "\t<tr><th></th><th scope=col>&lt;chr&gt;</th><th scope=col>&lt;chr&gt;</th><th scope=col>&lt;chr&gt;</th></tr>\n",
       "</thead>\n",
       "<tbody>\n",
       "\t<tr><th scope=row>2</th><td>allDatasets                 </td><td>public</td><td>IOOS Glider DAC                                      </td></tr>\n",
       "\t<tr><th scope=row>3</th><td><span style=white-space:pre-wrap>amelia-20180501T0000        </span></td><td>public</td><td>Virginia Institute of Marine Science - William &amp; Mary</td></tr>\n",
       "\t<tr><th scope=row>4</th><td><span style=white-space:pre-wrap>amelia-20200825T1929        </span></td><td>public</td><td>Virginia Institute of Marine Science - William &amp; Mary</td></tr>\n",
       "\t<tr><th scope=row>5</th><td><span style=white-space:pre-wrap>amelia-20201015T1436        </span></td><td>public</td><td>Virginia Institute of Marine Science - William &amp; Mary</td></tr>\n",
       "\t<tr><th scope=row>6</th><td>amlr01-20181216T0641-delayed</td><td>public</td><td>NOAA SWFSC Antarctic Ecosystem Research Division     </td></tr>\n",
       "\t<tr><th scope=row>7</th><td>amlr01-20191206T0452-delayed</td><td>public</td><td>NOAA SWFSC Antarctic Ecosystem Research Division     </td></tr>\n",
       "\t<tr><th scope=row>8</th><td>amlr02-20181211T1233-delayed</td><td>public</td><td>NOAA SWFSC Antarctic Ecosystem Research Division     </td></tr>\n",
       "\t<tr><th scope=row>9</th><td>amlr02-20191206T1236-delayed</td><td>public</td><td>NOAA SWFSC Antarctic Ecosystem Research Division     </td></tr>\n",
       "\t<tr><th scope=row>10</th><td>amlr03-20191206T0529-delayed</td><td>public</td><td>NOAA SWFSC Antarctic Ecosystem Research Division     </td></tr>\n",
       "\t<tr><th scope=row>11</th><td>angus-20190522T0000         </td><td>public</td><td>Skidaway Institute of Oceanography                   </td></tr>\n",
       "</tbody>\n",
       "</table>\n"
      ],
      "text/latex": [
       "A tabledap: 10 × 3\n",
       "\\begin{tabular}{r|lll}\n",
       "  & datasetID & accessible & institution\\\\\n",
       "  & <chr> & <chr> & <chr>\\\\\n",
       "\\hline\n",
       "\t2 & allDatasets                  & public & IOOS Glider DAC                                      \\\\\n",
       "\t3 & amelia-20180501T0000         & public & Virginia Institute of Marine Science - William \\& Mary\\\\\n",
       "\t4 & amelia-20200825T1929         & public & Virginia Institute of Marine Science - William \\& Mary\\\\\n",
       "\t5 & amelia-20201015T1436         & public & Virginia Institute of Marine Science - William \\& Mary\\\\\n",
       "\t6 & amlr01-20181216T0641-delayed & public & NOAA SWFSC Antarctic Ecosystem Research Division     \\\\\n",
       "\t7 & amlr01-20191206T0452-delayed & public & NOAA SWFSC Antarctic Ecosystem Research Division     \\\\\n",
       "\t8 & amlr02-20181211T1233-delayed & public & NOAA SWFSC Antarctic Ecosystem Research Division     \\\\\n",
       "\t9 & amlr02-20191206T1236-delayed & public & NOAA SWFSC Antarctic Ecosystem Research Division     \\\\\n",
       "\t10 & amlr03-20191206T0529-delayed & public & NOAA SWFSC Antarctic Ecosystem Research Division     \\\\\n",
       "\t11 & angus-20190522T0000          & public & Skidaway Institute of Oceanography                   \\\\\n",
       "\\end{tabular}\n"
      ],
      "text/markdown": [
       "\n",
       "A tabledap: 10 × 3\n",
       "\n",
       "| <!--/--> | datasetID &lt;chr&gt; | accessible &lt;chr&gt; | institution &lt;chr&gt; |\n",
       "|---|---|---|---|\n",
       "| 2 | allDatasets                  | public | IOOS Glider DAC                                       |\n",
       "| 3 | amelia-20180501T0000         | public | Virginia Institute of Marine Science - William &amp; Mary |\n",
       "| 4 | amelia-20200825T1929         | public | Virginia Institute of Marine Science - William &amp; Mary |\n",
       "| 5 | amelia-20201015T1436         | public | Virginia Institute of Marine Science - William &amp; Mary |\n",
       "| 6 | amlr01-20181216T0641-delayed | public | NOAA SWFSC Antarctic Ecosystem Research Division      |\n",
       "| 7 | amlr01-20191206T0452-delayed | public | NOAA SWFSC Antarctic Ecosystem Research Division      |\n",
       "| 8 | amlr02-20181211T1233-delayed | public | NOAA SWFSC Antarctic Ecosystem Research Division      |\n",
       "| 9 | amlr02-20191206T1236-delayed | public | NOAA SWFSC Antarctic Ecosystem Research Division      |\n",
       "| 10 | amlr03-20191206T0529-delayed | public | NOAA SWFSC Antarctic Ecosystem Research Division      |\n",
       "| 11 | angus-20190522T0000          | public | Skidaway Institute of Oceanography                    |\n",
       "\n"
      ],
      "text/plain": [
       "   datasetID                    accessible\n",
       "2  allDatasets                  public    \n",
       "3  amelia-20180501T0000         public    \n",
       "4  amelia-20200825T1929         public    \n",
       "5  amelia-20201015T1436         public    \n",
       "6  amlr01-20181216T0641-delayed public    \n",
       "7  amlr01-20191206T0452-delayed public    \n",
       "8  amlr02-20181211T1233-delayed public    \n",
       "9  amlr02-20191206T1236-delayed public    \n",
       "10 amlr03-20191206T0529-delayed public    \n",
       "11 angus-20190522T0000          public    \n",
       "   institution                                          \n",
       "2  IOOS Glider DAC                                      \n",
       "3  Virginia Institute of Marine Science - William & Mary\n",
       "4  Virginia Institute of Marine Science - William & Mary\n",
       "5  Virginia Institute of Marine Science - William & Mary\n",
       "6  NOAA SWFSC Antarctic Ecosystem Research Division     \n",
       "7  NOAA SWFSC Antarctic Ecosystem Research Division     \n",
       "8  NOAA SWFSC Antarctic Ecosystem Research Division     \n",
       "9  NOAA SWFSC Antarctic Ecosystem Research Division     \n",
       "10 NOAA SWFSC Antarctic Ecosystem Research Division     \n",
       "11 Skidaway Institute of Oceanography                   "
      ]
     },
     "metadata": {},
     "output_type": "display_data"
    }
   ],
   "source": [
    "allGlider[0:10,0:3]"
   ]
  },
  {
   "cell_type": "code",
   "execution_count": null,
   "id": "f24cb65e",
   "metadata": {},
   "outputs": [],
   "source": []
  }
 ],
 "metadata": {
  "jupytext": {
   "text_representation": {
    "extension": ".md",
    "format_name": "myst",
    "format_version": 0.13,
    "jupytext_version": "1.14.5"
   }
  },
  "kernelspec": {
   "display_name": "ir",
   "language": "ir",
   "name": "ir"
  },
  "language_info": {
   "codemirror_mode": "r",
   "file_extension": ".r",
   "mimetype": "text/x-r-source",
   "name": "R",
   "pygments_lexer": "r",
   "version": "4.2.3"
  },
  "source_map": [
   14,
   19,
   23,
   27,
   31,
   35,
   40,
   44,
   48,
   54,
   58,
   62
  ]
 },
 "nbformat": 4,
 "nbformat_minor": 5
}